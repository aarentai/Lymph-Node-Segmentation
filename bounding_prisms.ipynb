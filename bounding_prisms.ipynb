{
 "cells": [
  {
   "cell_type": "markdown",
   "id": "d6ccfca7",
   "metadata": {},
   "source": [
    "### Import required modules"
   ]
  },
  {
   "cell_type": "code",
   "execution_count": 1,
   "id": "b2250396",
   "metadata": {},
   "outputs": [],
   "source": [
    "import os\n",
    "import csv\n",
    "import pickle\n",
    "from time import sleep\n",
    "import numpy as np\n",
    "import pydicom as dcm\n",
    "import nibabel as nib\n",
    "from itkwidgets import view\n",
    "from skimage import measure\n",
    "from skimage import segmentation"
   ]
  },
  {
   "cell_type": "markdown",
   "id": "bbe19747",
   "metadata": {},
   "source": [
    "### Functions for loading cases, images, and masks"
   ]
  },
  {
   "cell_type": "code",
   "execution_count": 2,
   "id": "8b58ddb1",
   "metadata": {},
   "outputs": [],
   "source": [
    "def get_metadata(filename):\n",
    "    cases = []\n",
    "    with(open(filename, 'r') as csvf):\n",
    "        csv_reader = csv.reader(csvf)\n",
    "        header = next(csv_reader)\n",
    "        for row in csv_reader:\n",
    "            cases.append({header[i]:row[i] for i in range(len(row))})\n",
    "    return cases[86:]\n",
    "\n",
    "def read_dicom(case: dict):\n",
    "    filename = \"Dataset\" + case['File Location'][1:].replace('\\\\', '/')\n",
    "    dcms = os.listdir(filename)\n",
    "    dcms.sort()\n",
    "    first_image = dcm.read_file(f\"{filename}/{dcms[0]}\")\n",
    "    first_pixs = first_image.pixel_array\n",
    "    volume = np.empty((first_pixs.shape[0], first_pixs.shape[1], len(dcms)))\n",
    "    for idx, im in enumerate(dcms):\n",
    "        pixels = dcm.read_file(f\"{filename}/{im}\").pixel_array\n",
    "        volume[:,:,idx] = pixels.transpose()\n",
    "    return volume\n",
    "\n",
    "def read_mask(case: dict):\n",
    "    case_name = case['File Location'][1:].split('\\\\')[2]\n",
    "    filename = \"Dataset/MED_ABD_LYMPH_MASKS/\" + case_name + \"/\" + case_name + \"_mask.nii.gz\"\n",
    "    mask = nib.load(filename).get_fdata()\n",
    "    return mask"
   ]
  },
  {
   "cell_type": "markdown",
   "id": "ae3c6194",
   "metadata": {},
   "source": [
    "### Functions for performing processing on images and masks"
   ]
  },
  {
   "cell_type": "code",
   "execution_count": 43,
   "id": "6ef04559",
   "metadata": {},
   "outputs": [],
   "source": [
    "def man_binary_thresh(arr, lo, hi):\n",
    "    thresh = np.where((arr >= lo) & (arr <= hi), 1, 0)\n",
    "    return thresh\n",
    "\n",
    "def connected_components_2d(area, lo, hi, return_num=False):\n",
    "    thresh = man_binary_thresh(area, lo, hi)\n",
    "    comps, num = measure.label(thresh, return_num=True)\n",
    "    return comps, num if return_num else comps\n",
    "\n",
    "def sort_conn_comps(conn_comps, num_conn_comps):\n",
    "    counts = [(idx, np.count_nonzero(conn_comps==idx)) for idx in range(num_conn_comps)]\n",
    "    return sorted(counts, key = lambda i: i[1], reverse=True)\n",
    "        \n",
    "def find_average_pos(bin_image):\n",
    "    x, y, z = np.nonzero(bin_image)\n",
    "    return (np.mean(x), np.mean(y), np.mean(z))\n",
    "\n",
    "def find_lungs(vol):\n",
    "    # Binary threshold image\n",
    "    bin_im = man_binary_thresh(vol, -900, -700)\n",
    "    # Calculate average position (assumes this will be in a slice containing lung)\n",
    "    average_pos = find_average_pos(bin_im)\n",
    "    # Find connected components of the average position slice\n",
    "    conn_comps, num_comps = connected_components_2d(np.squeeze(vol[:,:,int(average_pos[2])]), -900, -700, return_num=True)\n",
    "    # Find the second biggest label which should correspond to lung\n",
    "    lung_label = sort_conn_comps(conn_comps, num_comps)[1][0]\n",
    "    flood_seed = list(zip(*np.nonzero(conn_comps==lung_label)))[0]\n",
    "    # Flood fill volume using this label\n",
    "    flood = segmentation.flood(bin_im, (*flood_seed, int(average_pos[2])))\n",
    "    # Return corresponding elements in original volume\n",
    "    lungs_vol = np.where(flood, vol, 0)\n",
    "    return lungs_vol, (*flood_seed, int(average_pos[2]))\n",
    "\n",
    "def find_nonzero_extent(arr, lungs=False, buffer_percent=0.0):\n",
    "    inds = np.nonzero(arr)\n",
    "    extent = [[min(inds[idx]), max(inds[idx])] for idx in range(3)]\n",
    "    if lungs:\n",
    "        if abs(extent[0][0] - arr.shape[0]//2) < arr.shape[0]//8\\\n",
    "        and abs(extent[0][1] - arr.shape[0]//2) < arr.shape[0]//8:\n",
    "            return extent # Do nothing, lungs weren't found\n",
    "        elif abs(extent[0][0] - arr.shape[0]//2) < arr.shape[0]//8:\n",
    "            extent[0][0] = arr.shape[0] - extent[0][1]\n",
    "        elif abs(extent[0][1] - arr.shape[0]//2) < arr.shape[0]//8:\n",
    "            extent[0][1] = arr.shape[0] - extent[0][0]\n",
    "    if buffer_percent:\n",
    "        for idx, pair in enumerate(extent):\n",
    "            span = pair[1] - pair[0]\n",
    "            extent[idx] = [pair[0]-int(buffer_percent*span/100.0), pair[1]+int(buffer_percent*span/100.0)]\n",
    "    return extent"
   ]
  },
  {
   "cell_type": "markdown",
   "id": "6e447ddf",
   "metadata": {},
   "source": [
    "### Load cases"
   ]
  },
  {
   "cell_type": "code",
   "execution_count": 4,
   "id": "c1b99adc",
   "metadata": {},
   "outputs": [],
   "source": [
    "cases = get_metadata('Dataset/metadata.csv')"
   ]
  },
  {
   "cell_type": "markdown",
   "id": "f129ef0f",
   "metadata": {},
   "source": [
    "### See if bounding prism containing lungs includes masked lymph nodes"
   ]
  },
  {
   "cell_type": "code",
   "execution_count": 44,
   "id": "3fcf1a90",
   "metadata": {},
   "outputs": [],
   "source": [
    "def test_prisms(cases, indices=[]):\n",
    "    failures, extents = {}, {}\n",
    "    if not indices:\n",
    "        for idx, case in enumerate(cases):\n",
    "            vol = read_dicom(case)\n",
    "            mask = read_mask(case)\n",
    "            lungs, pos = find_lungs(vol[:,:,vol.shape[2]//2:])\n",
    "            lungs_ext = find_nonzero_extent(lungs, lungs=True, buffer_percent=10.0)\n",
    "            mask_ext = find_nonzero_extent(mask[:,:,mask.shape[2]//2:])\n",
    "            for pair in zip(lungs_ext, mask_ext):\n",
    "                if pair[1][1] > pair[0][1] or pair[1][0] < pair[0][0]:\n",
    "                    print(f\"\\nFAIL WITH CASE {idx}\")\n",
    "                    failures[idx] = {\"lungs\": lungs_ext, \"mask\": mask_ext}\n",
    "                    break\n",
    "            extents[idx] = {\"lungs\": lungs_ext, \"mask\": mask_ext}\n",
    "\n",
    "            print(f\"Done with {idx} of {len(cases)-1}\", end=\"\\r\")\n",
    "            sleep(0) # This makes carriage return work. I dunno either.\n",
    "    else:\n",
    "        for idx in indices:\n",
    "            vol = read_dicom(cases[idx])\n",
    "            mask = read_mask(cases[idx])\n",
    "            lungs, pos = find_lungs(vol[:,:,vol.shape[2]//2:])\n",
    "            lungs_ext = find_nonzero_extent(lungs, lungs=True, buffer_percent=10.0)\n",
    "            mask_ext = find_nonzero_extent(mask[:,:,mask.shape[2]//2:])\n",
    "            for pair in zip(lungs_ext, mask_ext):\n",
    "                if pair[1][1] > pair[0][1] or pair[1][0] < pair[0][0]:\n",
    "                    print(f\"\\nFAIL WITH CASE {idx}\")\n",
    "                    failures[idx] = {\"lungs\": lungs_ext, \"mask\": mask_ext}\n",
    "                    break\n",
    "            extents[idx] = {\"lungs\": lungs_ext, \"mask\": mask_ext}\n",
    "    return failures, extents"
   ]
  },
  {
   "cell_type": "code",
   "execution_count": 45,
   "id": "78041e77",
   "metadata": {},
   "outputs": [
    {
     "name": "stdout",
     "output_type": "stream",
     "text": [
      "Done with 87 of 87\r"
     ]
    }
   ],
   "source": [
    "failures, extents = test_prisms(cases)"
   ]
  },
  {
   "cell_type": "markdown",
   "id": "91946342",
   "metadata": {},
   "source": [
    "### Write failures and extents to file for later evaluation"
   ]
  },
  {
   "cell_type": "code",
   "execution_count": 46,
   "id": "4106b4be",
   "metadata": {},
   "outputs": [],
   "source": [
    "with(open('lung_failures', 'wb') as f):\n",
    "    pickle.dump(failures, f)\n",
    "\n",
    "with(open('extents', 'wb') as f):\n",
    "    pickle.dump(extents, f)"
   ]
  },
  {
   "cell_type": "code",
   "execution_count": 47,
   "id": "01af8a71",
   "metadata": {},
   "outputs": [],
   "source": [
    "with(open('lung_failures', 'rb') as f):\n",
    "    read_failures = pickle.load(f)\n",
    "    \n",
    "with(open('extents', 'rb') as f):\n",
    "    read_extents = pickle.load(f)"
   ]
  },
  {
   "cell_type": "markdown",
   "id": "ffe9aca8",
   "metadata": {},
   "source": [
    "### View a fiew examples"
   ]
  },
  {
   "cell_type": "code",
   "execution_count": 48,
   "id": "8c95b149",
   "metadata": {},
   "outputs": [],
   "source": [
    "def overlay_prism_on_vol(case_idx):\n",
    "    vol = read_dicom(cases[case_idx])\n",
    "    ext = read_extents[case_idx]['lungs']\n",
    "    prism = np.zeros_like(vol)\n",
    "    prism[ext[0][0]:ext[0][1],\n",
    "          ext[1][0]:ext[1][1],\n",
    "          ext[2][0]+vol.shape[2]//2:ext[2][1]+vol.shape[2]//2] = 1\n",
    "    return vol, prism\n",
    "\n",
    "def overlay_prism_on_mask(case_idx):\n",
    "    mask = read_mask(cases[case_idx])\n",
    "    ext = read_extents[case_idx]['lungs']\n",
    "    prism = np.zeros_like(mask)\n",
    "    prism[ext[0][0]:ext[0][1],\n",
    "          ext[1][0]:ext[1][1],\n",
    "          ext[2][0]+mask.shape[2]//2:ext[2][1]+mask.shape[2]//2] = 1\n",
    "    return mask, prism"
   ]
  },
  {
   "cell_type": "code",
   "execution_count": 53,
   "id": "67b81aa0",
   "metadata": {},
   "outputs": [
    {
     "data": {
      "application/vnd.jupyter.widget-view+json": {
       "model_id": "3aacf81df0064c2193de290243b3e8a6",
       "version_major": 2,
       "version_minor": 0
      },
      "text/plain": [
       "Viewer(geometries=[], gradient_opacity=0.22, interpolation=False, point_sets=[], rendered_image=<itk.itkImageP…"
      ]
     },
     "metadata": {},
     "output_type": "display_data"
    }
   ],
   "source": [
    "view(*overlay_prism_on_vol(3))"
   ]
  }
 ],
 "metadata": {
  "kernelspec": {
   "display_name": "Python 3 (ipykernel)",
   "language": "python",
   "name": "python3"
  },
  "language_info": {
   "codemirror_mode": {
    "name": "ipython",
    "version": 3
   },
   "file_extension": ".py",
   "mimetype": "text/x-python",
   "name": "python",
   "nbconvert_exporter": "python",
   "pygments_lexer": "ipython3",
   "version": "3.9.7"
  }
 },
 "nbformat": 4,
 "nbformat_minor": 5
}
